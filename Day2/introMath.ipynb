{
 "cells": [
  {
   "cell_type": "markdown",
   "metadata": {},
   "source": [
    "# This is a (another) basic Python quick-start guide"
   ]
  },
  {
   "cell_type": "markdown",
   "metadata": {},
   "source": [
    "Let's start with how to print things to the screen."
   ]
  },
  {
   "cell_type": "code",
   "execution_count": 2,
   "metadata": {},
   "outputs": [
    {
     "data": {
      "text/plain": [
       "46"
      ]
     },
     "execution_count": 2,
     "metadata": {},
     "output_type": "execute_result"
    }
   ],
   "source": [
    "# Typing an expression and then running it with Shift+Enter will show the result\n",
    "12 + 34"
   ]
  },
  {
   "cell_type": "code",
   "execution_count": 3,
   "metadata": {},
   "outputs": [
    {
     "name": "stdout",
     "output_type": "stream",
     "text": [
      "46\n",
      "134\n"
     ]
    }
   ],
   "source": [
    "# However, if you want to see the result of multiple expressions, you can use print()\n",
    "print(12 + 34)\n",
    "print(56 + 78)"
   ]
  },
  {
   "cell_type": "code",
   "execution_count": 4,
   "metadata": {},
   "outputs": [
    {
     "name": "stdout",
     "output_type": "stream",
     "text": [
      "46\n"
     ]
    }
   ],
   "source": [
    "# Assign the result of an expression to a variable\n",
    "x = 12 + 34\n",
    "print(x)"
   ]
  },
  {
   "cell_type": "markdown",
   "metadata": {},
   "source": [
    "As you have already seen, you can use Python to perform basic math operations:"
   ]
  },
  {
   "cell_type": "code",
   "execution_count": 5,
   "metadata": {},
   "outputs": [
    {
     "data": {
      "text/plain": [
       "3"
      ]
     },
     "execution_count": 5,
     "metadata": {},
     "output_type": "execute_result"
    }
   ],
   "source": [
    "1+2"
   ]
  },
  {
   "cell_type": "code",
   "execution_count": 6,
   "metadata": {},
   "outputs": [
    {
     "data": {
      "text/plain": [
       "-1"
      ]
     },
     "execution_count": 6,
     "metadata": {},
     "output_type": "execute_result"
    }
   ],
   "source": [
    "1-2"
   ]
  },
  {
   "cell_type": "code",
   "execution_count": 7,
   "metadata": {},
   "outputs": [
    {
     "data": {
      "text/plain": [
       "2"
      ]
     },
     "execution_count": 7,
     "metadata": {},
     "output_type": "execute_result"
    }
   ],
   "source": [
    "1*2"
   ]
  },
  {
   "cell_type": "code",
   "execution_count": 8,
   "metadata": {},
   "outputs": [
    {
     "data": {
      "text/plain": [
       "0.5"
      ]
     },
     "execution_count": 8,
     "metadata": {},
     "output_type": "execute_result"
    }
   ],
   "source": [
    "1/2"
   ]
  },
  {
   "cell_type": "markdown",
   "metadata": {},
   "source": [
    "Note that the syntax for exponents is NOT `a^b`, but rather `a**b`. `a^b` stands for Exclusive OR (XOR)"
   ]
  },
  {
   "cell_type": "code",
   "execution_count": 9,
   "metadata": {},
   "outputs": [
    {
     "name": "stdout",
     "output_type": "stream",
     "text": [
      "16 2.0\n"
     ]
    }
   ],
   "source": [
    "# 2 to the power of 4\n",
    "powerResult = 2**4\n",
    "# You can use the a^(1/b) to get the bth root of a\n",
    "rootResult = 8**(1/3)\n",
    "print(powerResult, rootResult)"
   ]
  },
  {
   "cell_type": "markdown",
   "metadata": {},
   "source": [
    "Python also follows the order of operations."
   ]
  },
  {
   "cell_type": "code",
   "execution_count": 10,
   "metadata": {},
   "outputs": [
    {
     "name": "stdout",
     "output_type": "stream",
     "text": [
      "83.0\n"
     ]
    }
   ],
   "source": [
    "# Complex order of operations example\n",
    "print(2 + 3 * (4 - 5) ** 6 / (1/3) * 8 + 9)"
   ]
  },
  {
   "cell_type": "markdown",
   "metadata": {},
   "source": [
    "## Math Module"
   ]
  },
  {
   "cell_type": "markdown",
   "metadata": {},
   "source": [
    "You can get more access to Math functions and constants by using the `math` module:"
   ]
  },
  {
   "cell_type": "code",
   "execution_count": 3,
   "metadata": {},
   "outputs": [],
   "source": [
    "# Below line imports the math module\n",
    "import math"
   ]
  },
  {
   "cell_type": "markdown",
   "metadata": {},
   "source": [
    "### Math Constants"
   ]
  },
  {
   "cell_type": "code",
   "execution_count": null,
   "metadata": {},
   "outputs": [],
   "source": [
    "# Mathematical constants\n",
    "print(math.pi)\n",
    "print(math.sin(math.pi/2))\n",
    "print(math.cos(math.pi/2))\n",
    "print(math.log(100, 10))\n",
    "# You can also use math.sqrt() as an alternative to the ** operator\n",
    "print(math.sqrt(100))"
   ]
  },
  {
   "cell_type": "markdown",
   "metadata": {},
   "source": [
    "## Common Basic Math Functions"
   ]
  },
  {
   "cell_type": "markdown",
   "metadata": {},
   "source": [
    "### Absolute Value"
   ]
  },
  {
   "cell_type": "code",
   "execution_count": 6,
   "metadata": {},
   "outputs": [
    {
     "name": "stdout",
     "output_type": "stream",
     "text": [
      "5\n"
     ]
    }
   ],
   "source": [
    "# Absolute value\n",
    "print(abs(-5))"
   ]
  },
  {
   "cell_type": "markdown",
   "metadata": {},
   "source": [
    "### Rounding"
   ]
  },
  {
   "cell_type": "code",
   "execution_count": 9,
   "metadata": {},
   "outputs": [
    {
     "name": "stdout",
     "output_type": "stream",
     "text": [
      "3.141592653589793\n"
     ]
    }
   ],
   "source": [
    "# pi as an example variable for the following examples\n",
    "pi = math.pi\n",
    "print(pi)"
   ]
  },
  {
   "cell_type": "code",
   "execution_count": 12,
   "metadata": {},
   "outputs": [
    {
     "name": "stdout",
     "output_type": "stream",
     "text": [
      "Ceil 4\n",
      "Floor 3\n",
      "Round 3\n",
      "Round (2 dec) 3.14\n",
      "Round (3 dec) 3.142\n"
     ]
    }
   ],
   "source": [
    "# Round up to next integer\n",
    "print(\"Ceil\", math.ceil(pi))\n",
    "# Round down to previous integer\n",
    "print(\"Floor\", math.floor(pi))\n",
    "\n",
    "# Round to nearest integer\n",
    "print(\"Round\", round(pi))\n",
    "\n",
    "# Round to nearest integer with specified number of decimal places\n",
    "print(\"Round (2 dec)\", round(pi, 2)) # 2 decimal places\n",
    "print(\"Round (3 dec)\", round(pi, 3)) # 3 decimal places"
   ]
  },
  {
   "cell_type": "markdown",
   "metadata": {},
   "source": [
    "### Trigonometry and Logarithms"
   ]
  },
  {
   "cell_type": "code",
   "execution_count": 14,
   "metadata": {},
   "outputs": [
    {
     "name": "stdout",
     "output_type": "stream",
     "text": [
      "sin 1.0\n",
      "cos 6.123233995736766e-17\n",
      "tan 0.9999999999999999\n",
      "asin 1.5707963267948966\n",
      "acos 1.5707963267948966\n",
      "atan 0.7853981633974483\n",
      "log 2.0\n",
      "log10 2.0\n",
      "log2 6.643856189774724\n"
     ]
    }
   ],
   "source": [
    "# sin\n",
    "print(\"sin\", math.sin(pi/2))\n",
    "# cos\n",
    "print(\"cos\", math.cos(pi/2))\n",
    "# tan\n",
    "print(\"tan\", math.tan(pi/4))\n",
    "\n",
    "# asin\n",
    "print(\"asin\", math.asin(1))\n",
    "# acos\n",
    "print(\"acos\", math.acos(0))\n",
    "# atan\n",
    "print(\"atan\", math.atan(1))\n",
    "\n",
    "# log\n",
    "print(\"log\", math.log(100, 10))\n",
    "# log10\n",
    "print(\"log10\", math.log10(100))\n",
    "# log2\n",
    "print(\"log2\", math.log2(100))"
   ]
  },
  {
   "cell_type": "markdown",
   "metadata": {},
   "source": [
    "#### Did you notice something odd with the output of the above functions, particularly cos and tan?\n",
    "\n",
    "- Starting with `tan`, the output of $\\tan{\\frac{\\pi}{4}}$ should have been 1, but it was 0.99999999999999989. This is because Python uses floating point numbers (floats) to represent real numbers. Floating point numbers are not exact, and so they can't represent all real numbers exactly. This is why you should be careful when comparing floating point numbers for equality. You can work around this by rounding the numbers to a certain number of decimal places (and in practical situations involving real/ observed data, you should be doing this anyway because of SigFigs).\n",
    "\n",
    "- Similarly, with `cos`, the output of $\\cos{\\frac{\\pi}{2}}$ should have been 0, but it was $6.123\\times10^{-16}$ (represented with notation `6.123e-17`). This is because the computer can't represent $\\frac{\\pi}{2}$ exactly, so it has to approximate it. This approximation is not exact, and so the result is not exactly 0. Once again, you can work around this by rounding the numbers to a certain number of decimal places."
   ]
  },
  {
   "cell_type": "code",
   "execution_count": 17,
   "metadata": {},
   "outputs": [
    {
     "name": "stdout",
     "output_type": "stream",
     "text": [
      "cos 0.9999999999999999\n",
      "sin 6.123233995736766e-17\n",
      "cos 1.0\n",
      "sin 0.0\n"
     ]
    }
   ],
   "source": [
    "# Reprinted incorrect example from above:\n",
    "print(\"cos\", math.tan(pi/4))\n",
    "print(\"sin\", math.cos(pi/2))\n",
    "\n",
    "# Corrected example by rounding to 3 decimal places\n",
    "print(\"cos\", round(math.tan(pi/4), 3))\n",
    "print(\"sin\", round(math.cos(pi/2), 3))"
   ]
  },
  {
   "cell_type": "markdown",
   "metadata": {},
   "source": [
    "### More Math Module Things (Full Documentation)\n",
    "Link: [Python `math` Module Overview/ Interactive Documentation](https://www.w3schools.com/python/module_math.asp)<br>Click the method/ mathematical constant names to see the documentation and examples for each command in the `math` module."
   ]
  },
  {
   "cell_type": "markdown",
   "metadata": {},
   "source": [
    "## Congrats! You now know how to use Python to turn your computer work into an overpriced calculator!"
   ]
  }
 ],
 "metadata": {
  "kernelspec": {
   "display_name": "Python 3.10.6 64-bit",
   "language": "python",
   "name": "python3"
  },
  "language_info": {
   "codemirror_mode": {
    "name": "ipython",
    "version": 3
   },
   "file_extension": ".py",
   "mimetype": "text/x-python",
   "name": "python",
   "nbconvert_exporter": "python",
   "pygments_lexer": "ipython3",
   "version": "3.10.6"
  },
  "orig_nbformat": 4,
  "vscode": {
   "interpreter": {
    "hash": "26de051ba29f2982a8de78e945f0abaf191376122a1563185a90213a26c5da77"
   }
  }
 },
 "nbformat": 4,
 "nbformat_minor": 2
}
