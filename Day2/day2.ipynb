{
 "cells": [
  {
   "cell_type": "markdown",
   "metadata": {},
   "source": [
    "# Agenda for Day 2\n",
    "\n",
    "1. Finish the [IntroJupyter](../Day1/IntroJupyter.ipynb) and [inClassQuiz](../Day1/inClassQuiz.ipynb) notebooks from Day 1. (Don't worry if you are moving faster or slower than the rest of the class, just make sure you are actively putting in the effort to actively learn new material, regardless of what level of prior experience you have.)"
   ]
  },
  {
   "cell_type": "code",
   "execution_count": null,
   "metadata": {},
   "outputs": [],
   "source": []
  }
 ],
 "metadata": {
  "kernelspec": {
   "display_name": "Python 3.10.6 64-bit",
   "language": "python",
   "name": "python3"
  },
  "language_info": {
   "name": "python",
   "version": "3.10.6"
  },
  "orig_nbformat": 4,
  "vscode": {
   "interpreter": {
    "hash": "26de051ba29f2982a8de78e945f0abaf191376122a1563185a90213a26c5da77"
   }
  }
 },
 "nbformat": 4,
 "nbformat_minor": 2
}
