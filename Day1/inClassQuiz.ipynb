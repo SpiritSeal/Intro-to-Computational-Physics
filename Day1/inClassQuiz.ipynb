{
 "cells": [
  {
   "cell_type": "code",
   "execution_count": null,
   "metadata": {},
   "outputs": [],
   "source": [
    "# Utility functions for in-class quiz; do not modify\n",
    "def roundAndCompare(x, y, r):\n",
    "    return round(x, r) == round(y, r)\n",
    "\n",
    "# TODO: Change the publicly viewable key to only include 2 decimal places\n",
    "checkKey = {\n",
    "        \"numerator\": 795522.096\n",
    "        }\n",
    "\n",
    "print(checkKey[\"numerator\"])\n"
   ]
  },
  {
   "cell_type": "markdown",
   "metadata": {},
   "source": [
    "# Use Python to do the following:"
   ]
  },
  {
   "cell_type": "markdown",
   "metadata": {},
   "source": [
    "1. Find the value of $$623.6126^{2.11121}$$Save it in new variable named `numerator`."
   ]
  },
  {
   "cell_type": "code",
   "execution_count": null,
   "metadata": {},
   "outputs": [],
   "source": [
    "# TODO: Fix the statement below so that it completes the task\n",
    "\n",
    "numerator = None\n",
    "\n",
    "print(numerator)"
   ]
  },
  {
   "cell_type": "code",
   "execution_count": null,
   "metadata": {},
   "outputs": [],
   "source": [
    "assert roundAndCompare(numerator, checkKey[\"numerator\"], 2), \"Numerator is incorrect!\"\n",
    "print(\"Numerator is correct!\")"
   ]
  },
  {
   "cell_type": "markdown",
   "metadata": {},
   "source": [
    "2. Find the value of $$\\sqrt{2}\\times\\sqrt{3}\\times\\sqrt[6]{27.12}$$Save it in a new variable named `denom1`"
   ]
  },
  {
   "cell_type": "markdown",
   "metadata": {},
   "source": [
    "3. Find the value of $$\\sqrt{1.1}+\\sqrt[27]{7.1}\\times e^6$$ Save it in a new variable named `denom2`"
   ]
  },
  {
   "cell_type": "markdown",
   "metadata": {},
   "source": [
    "4. In the same cell, write python code that will print out `numerator`, `denom1`, and `denom2` each on separate lines."
   ]
  },
  {
   "cell_type": "markdown",
   "metadata": {},
   "source": [
    "5. Compute and print the value of $$\\frac{\\text{numerator}}{\\text{denom1}}$$"
   ]
  },
  {
   "cell_type": "markdown",
   "metadata": {},
   "source": [
    "6. Compute and print the value of $$\\frac{\\text{numerator}}{\\text{denom2}}$$"
   ]
  },
  {
   "cell_type": "markdown",
   "metadata": {},
   "source": [
    "5. Compute and print the value of $$\\frac{\\text{numerator} + 12}{\\text{denom1}\\times\\log_\\pi{(\\text{denom2})}}$$"
   ]
  },
  {
   "cell_type": "markdown",
   "metadata": {},
   "source": [
    "## Bonus! Refer to the python documentation for the `math` library to find solutions to these questions."
   ]
  },
  {
   "cell_type": "markdown",
   "metadata": {},
   "source": [
    "> - [Math Library from official documentation](https://docs.python.org/3/library/math.html)\n",
    "> - [Easier to use Math Library from W3 Schools](https://www.w3schools.com/python/module_math.asp)"
   ]
  },
  {
   "cell_type": "markdown",
   "metadata": {},
   "source": [
    "1. How many ways are there to choose `185` items from `3141592` items without repetition and without order?\n",
    "2. How many ways are there to choose `185` items from `3141592` items without repetition and with order?\n",
    "3. What is 23.32 rounded up?\n",
    "4. What is 23.32 rounded down?\n",
    "5. What is 43.4999 rounded to the nearest integer?\n",
    " "
   ]
  },
  {
   "cell_type": "markdown",
   "metadata": {},
   "source": [
    "> ### A cannon launches a projectile 30° above the normal in the positive x direction with an initial velocity of 100 m/s\n",
    "#### Use Python to create a function that `print`s the Cartesian Coordinates (i.e. x, y) and the polar velocity vector as a function of time after launch `t`\n",
    "##### The function should `return` `True` if the projectile has already collided with the ground at that time `t`.\n",
    "Notes:\n",
    "- The ground is solid, has velocity `0` relative to the reference, and mass `Infinity` for our simulation (aka: it's not going to move).\n",
    "- You are on Earth (g=$9.8 m/s^2$).\n",
    "- Air resistance is negligible."
   ]
  },
  {
   "cell_type": "code",
   "execution_count": null,
   "metadata": {},
   "outputs": [],
   "source": [
    "'''Print the projectile's position and velocity at the given time, returning True if the projectile has hit the ground, False otherwise'''\n",
    "def findProjectileInfo(t: float) -> bool:\n",
    "    #TODO: Complete the function to calculate the correct values\n",
    "    #      for the variables below\n",
    "    \n",
    "    # Position of the projectile at time t\n",
    "    # (x, y)\n",
    "    coordinates: tuple[float, float] = (None, None)\n",
    "\n",
    "    # Find the polar velocity vector of the projectile at time t\n",
    "    # (magnitude, angle)\n",
    "    velocity: tuple[float, float] = (None, None)\n",
    "\n",
    "    # Has the projectile hit the ground?\n",
    "    projectileHasHitGround: bool = None\n",
    "\n",
    "\n",
    "    # Formatted Output; do not modify\n",
    "    print(f\"Time: {t}\")\n",
    "    print(f\"Position: ({coordinates[0]}, {coordinates[1]})\")\n",
    "    print(f\"Velocity: {velocity[0]}∟ {velocity[1]}\")\n",
    "\n",
    "    '''Returns True if the projectile has hit the ground, False otherwise'''\n",
    "    return projectileHasHitGround"
   ]
  },
  {
   "cell_type": "code",
   "execution_count": null,
   "metadata": {},
   "outputs": [],
   "source": [
    "# iterate from 0 to 15 seconds in 0.01 second increments\n",
    "for t in range(0, 1501):\n",
    "    t = t / 100\n",
    "    if findProjectileInfo(t):\n",
    "        break # Stop the loop if the projectile has hit the ground"
   ]
  }
 ],
 "metadata": {
  "kernelspec": {
   "display_name": "Python 3.10.6 64-bit",
   "language": "python",
   "name": "python3"
  },
  "language_info": {
   "codemirror_mode": {
    "name": "ipython",
    "version": 3
   },
   "file_extension": ".py",
   "mimetype": "text/x-python",
   "name": "python",
   "nbconvert_exporter": "python",
   "pygments_lexer": "ipython3",
   "version": "3.10.6"
  },
  "orig_nbformat": 4,
  "vscode": {
   "interpreter": {
    "hash": "26de051ba29f2982a8de78e945f0abaf191376122a1563185a90213a26c5da77"
   }
  }
 },
 "nbformat": 4,
 "nbformat_minor": 2
}
