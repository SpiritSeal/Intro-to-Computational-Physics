{
 "cells": [
  {
   "cell_type": "code",
   "execution_count": 30,
   "metadata": {},
   "outputs": [
    {
     "name": "stdout",
     "output_type": "stream",
     "text": [
      "795522.096\n"
     ]
    }
   ],
   "source": [
    "# Utility functions for in-class quiz; do not modify\n",
    "def roundAndCompare(x, y, r):\n",
    "    return round(x, r) == round(y, r)\n",
    "\n",
    "# TODO: Change the publicly viewable key to only include 2 decimal places\n",
    "checkKey = {\n",
    "        \"numerator\": 795522.096\n",
    "        }\n",
    "\n",
    "print(checkKey[\"numerator\"])\n"
   ]
  },
  {
   "cell_type": "markdown",
   "metadata": {},
   "source": [
    "# Use Python to do the following:"
   ]
  },
  {
   "cell_type": "markdown",
   "metadata": {},
   "source": [
    "1. Find the value of $$623.6126^{2.11121}$$Save it in new variable named `numerator`."
   ]
  },
  {
   "cell_type": "code",
   "execution_count": 31,
   "metadata": {},
   "outputs": [
    {
     "name": "stdout",
     "output_type": "stream",
     "text": [
      "795522.0960106642\n"
     ]
    }
   ],
   "source": [
    "# TODO: Fix the statement below so that it completes the task\n",
    "\n",
    "numerator = None\n",
    "\n",
    "print(numerator)"
   ]
  },
  {
   "cell_type": "code",
   "execution_count": 32,
   "metadata": {},
   "outputs": [
    {
     "name": "stdout",
     "output_type": "stream",
     "text": [
      "Numerator is correct!\n"
     ]
    }
   ],
   "source": [
    "assert roundAndCompare(numerator, checkKey[\"numerator\"], 2), \"Numerator is incorrect!\"\n",
    "print(\"Numerator is correct!\")"
   ]
  },
  {
   "cell_type": "markdown",
   "metadata": {},
   "source": [
    "2. Find the value of $$\\sqrt{2}\\times\\sqrt{3}\\times\\sqrt[6]{27.12}$$Save it in a new variable named `denom1`"
   ]
  },
  {
   "cell_type": "markdown",
   "metadata": {},
   "source": [
    "3. Find the value of $$\\sqrt{1.1}+\\sqrt[27]{7.1}\\times e^6$$ Save it in a new variable named `denom2`"
   ]
  },
  {
   "cell_type": "markdown",
   "metadata": {},
   "source": [
    "4. In the same cell, write python code that will print out `numerator`, `denom1`, and `denom2` each on separate lines."
   ]
  },
  {
   "cell_type": "markdown",
   "metadata": {},
   "source": [
    "5. Compute and print the value of $$\\frac{\\text{numerator}}{\\text{denom1}}$$"
   ]
  },
  {
   "cell_type": "markdown",
   "metadata": {},
   "source": [
    "6. Compute and print the value of $$\\frac{\\text{numerator}}{\\text{denom2}}$$"
   ]
  },
  {
   "cell_type": "markdown",
   "metadata": {},
   "source": [
    "5. Compute and print the value of $$\\frac{\\text{numerator} + 12}{\\text{denom1}\\times\\log_\\pi{(\\text{denom2})}}$$"
   ]
  },
  {
   "cell_type": "markdown",
   "metadata": {},
   "source": [
    "## Bonus! Refer to the python documentation for the `math` library to find solutions to these questions."
   ]
  },
  {
   "cell_type": "markdown",
   "metadata": {},
   "source": [
    "> - [Math Library from official documentation](https://docs.python.org/3/library/math.html)\n",
    "> - [Easier to use Math Library from W3 Schools](https://www.w3schools.com/python/module_math.asp)"
   ]
  },
  {
   "cell_type": "markdown",
   "metadata": {},
   "source": [
    "1. How many ways are there to choose `185` items from `3141592` items without repetition and without order?\n",
    "2. How many ways are there to choose `185` items from `3141592` items without repetition and with order?\n",
    "3. What is 23.32 rounded up?\n",
    "4. What is 23.32 rounded down?\n",
    "5. What is 43.4999 rounded to the nearest integer?\n",
    " "
   ]
  }
 ],
 "metadata": {
  "kernelspec": {
   "display_name": "Python 3.10.6 64-bit",
   "language": "python",
   "name": "python3"
  },
  "language_info": {
   "codemirror_mode": {
    "name": "ipython",
    "version": 3
   },
   "file_extension": ".py",
   "mimetype": "text/x-python",
   "name": "python",
   "nbconvert_exporter": "python",
   "pygments_lexer": "ipython3",
   "version": "3.10.6"
  },
  "orig_nbformat": 4,
  "vscode": {
   "interpreter": {
    "hash": "26de051ba29f2982a8de78e945f0abaf191376122a1563185a90213a26c5da77"
   }
  }
 },
 "nbformat": 4,
 "nbformat_minor": 2
}
