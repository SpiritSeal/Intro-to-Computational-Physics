{
 "cells": [
  {
   "cell_type": "markdown",
   "metadata": {},
   "source": [
    "# Use Python to do the following:"
   ]
  },
  {
   "cell_type": "markdown",
   "metadata": {},
   "source": [
    "1. Find the value of $$623.6126^{2.11121}$$Save it in new variable named `numerator`."
   ]
  },
  {
   "cell_type": "markdown",
   "metadata": {},
   "source": [
    "2. Find the value of $$\\sqrt{2}\\times\\sqrt{3}\\times\\sqrt[6]{27.12}$$Save it in a new variable named `denom1`"
   ]
  },
  {
   "cell_type": "markdown",
   "metadata": {},
   "source": [
    "3. Find the value of $$\\sqrt{1.1}+\\sqrt[27]{7.1}\\times e^6$$ Save it in a new variable named `denom2`"
   ]
  },
  {
   "cell_type": "markdown",
   "metadata": {},
   "source": [
    "4. In the same cell, write python code that will print out `numerator`, `denom1`, and `denom2` each on separate lines."
   ]
  },
  {
   "cell_type": "markdown",
   "metadata": {},
   "source": [
    "5. Compute and print the value of $$\\frac{\\text{numerator}}{\\text{denom1}}$$"
   ]
  },
  {
   "cell_type": "markdown",
   "metadata": {},
   "source": [
    "6. Compute and print the value of $$\\frac{\\text{numerator}}{\\text{denom2}}$$"
   ]
  },
  {
   "cell_type": "markdown",
   "metadata": {},
   "source": [
    "5. Compute and print the value of $$\\frac{\\text{numerator} + 12}{\\text{denom1}\\times\\log_\\pi{(\\text{denom2})}}$$"
   ]
  },
  {
   "cell_type": "markdown",
   "metadata": {},
   "source": [
    "## Bonus! Refer to the python documentation for the `math` library to find solutions to these questions."
   ]
  },
  {
   "cell_type": "markdown",
   "metadata": {},
   "source": [
    "1. How many ways are there to choose `185` items from `3141592` items without repetition and without order?\n",
    "2. How many ways are there to choose `185` items from `3141592` items without repetition and with order?\n",
    "3. What is 23.32 rounded up?\n",
    "4. What is 23.32 rounded down?\n",
    "5. What is 43.4999 rounded to the nearest integer?\n",
    " "
   ]
  }
 ],
 "metadata": {
  "kernelspec": {
   "display_name": "Python 3.10.6 64-bit",
   "language": "python",
   "name": "python3"
  },
  "language_info": {
   "name": "python",
   "version": "3.10.6"
  },
  "orig_nbformat": 4,
  "vscode": {
   "interpreter": {
    "hash": "26de051ba29f2982a8de78e945f0abaf191376122a1563185a90213a26c5da77"
   }
  }
 },
 "nbformat": 4,
 "nbformat_minor": 2
}
