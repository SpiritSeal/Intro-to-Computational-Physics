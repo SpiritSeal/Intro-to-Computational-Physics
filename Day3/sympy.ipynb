{
 "cells": [
  {
   "cell_type": "code",
   "execution_count": 2,
   "metadata": {},
   "outputs": [],
   "source": [
    "# Imports:\n",
    "# import sympy\n",
    "# from sympy.solvers import solve\n",
    "# from sympy.core.symbol import Symbol, symbols\n",
    "# from sympy.core.relational import Eq\n",
    "from sympy import *"
   ]
  },
  {
   "cell_type": "code",
   "execution_count": 3,
   "metadata": {},
   "outputs": [],
   "source": [
    "# Pretty equation printing support\n",
    "from sympy import init_printing\n",
    "init_printing()"
   ]
  },
  {
   "cell_type": "markdown",
   "metadata": {},
   "source": [
    "# Introduction to Sympy\n",
    "\n",
    "Sympy is a Python Library build for working with Symbolic Mathematics. It is a very powerful tool that works much like CAS solves on many modern Graphing Calculators. Let's start with a couple of examples."
   ]
  },
  {
   "cell_type": "markdown",
   "metadata": {},
   "source": [
    "Solve $x^2 + 2x + 4 = 3x + 1$ for $x$"
   ]
  },
  {
   "cell_type": "code",
   "execution_count": 4,
   "metadata": {},
   "outputs": [
    {
     "data": {
      "image/png": "[encoded data removed]",
      "text/latex": [
       "$\\displaystyle \\left[ \\left\\{ x : \\frac{1}{2} - \\frac{\\sqrt{11} i}{2}\\right\\}, \\  \\left\\{ x : \\frac{1}{2} + \\frac{\\sqrt{11} i}{2}\\right\\}\\right]$"
      ],
      "text/plain": [
       "⎡⎧   1   √11⋅ⅈ⎫  ⎧   1   √11⋅ⅈ⎫⎤\n",
       "⎢⎨x: ─ - ─────⎬, ⎨x: ─ + ─────⎬⎥\n",
       "⎣⎩   2     2  ⎭  ⎩   2     2  ⎭⎦"
      ]
     },
     "execution_count": 4,
     "metadata": {},
     "output_type": "execute_result"
    }
   ],
   "source": [
    "# Solve x^2 + 2x + 4 = 3x + 1 for x\n",
    "\n",
    "# Define the symbols\n",
    "x = Symbol('x')\n",
    "\n",
    "# Define the equation\n",
    "eq = Eq(x**2 + 2*x + 4, 3*x + 1)\n",
    "\n",
    "# Solve the equation\n",
    "solve(eq, dict=True)"
   ]
  },
  {
   "cell_type": "markdown",
   "metadata": {},
   "source": [
    "Let's try a multivariable linear system:\\\n",
    "Solve the following system of equations for $x$ and $y$:\n",
    "$$\\begin{cases}\n",
    "2x + 3y = 6\\\\\n",
    "3x + 2y = 12\n",
    "\\end{cases}$$"
   ]
  },
  {
   "cell_type": "code",
   "execution_count": 5,
   "metadata": {},
   "outputs": [
    {
     "data": {
      "image/png": "[encoded data removed]",
      "text/latex": [
       "$\\displaystyle \\left[ \\left\\{ x : \\frac{24}{5}, \\  y : - \\frac{6}{5}\\right\\}\\right]$"
      ],
      "text/plain": [
       "[{x: 24/5, y: -6/5}]"
      ]
     },
     "execution_count": 5,
     "metadata": {},
     "output_type": "execute_result"
    }
   ],
   "source": [
    "# Define the symbols\n",
    "x = Symbol('x')\n",
    "y = Symbol('y')\n",
    "\n",
    "# Define the equations\n",
    "eq1 = Eq(2*x + 3*y, 6)\n",
    "eq2 = Eq(3*x + 2*y, 12)\n",
    "\n",
    "# Solve the equations\n",
    "solve((eq1, eq2), dict=True)"
   ]
  },
  {
   "cell_type": "markdown",
   "metadata": {},
   "source": [
    "Another important thing to keep in mind is to make sure you sure the `Rational` function whenever you are trying to express a non-integer value. For example, if you want to express $1/2$ as a fraction, you would write `Rational(1,2)`. If you do not do this, Python will convert the fraction to a floating point decimal, which loses precision. This may not sound like a big deal, but consider the following word problem that I recently had to deal with:\n",
    "\n",
    "> The speed of electricity is roughly 60% the speed of light. Using $c=3\\times10^8$, use Python to determine a value for the speed of electricity.\n",
    "\n",
    "(Effective Equation: $v_E=.6\\times c$; solve for $v_E$)"
   ]
  },
  {
   "cell_type": "markdown",
   "metadata": {},
   "source": [
    "A non-`Rational` solution would look something like:"
   ]
  },
  {
   "cell_type": "code",
   "execution_count": 17,
   "metadata": {},
   "outputs": [
    {
     "data": {
      "image/png": "[encoded data removed]",
      "text/latex": [
       "$\\displaystyle \\left[ \\left\\{ c : 1.66666666666667 v\\right\\}\\right]$"
      ],
      "text/plain": [
       "[{c: 1.66666666666667⋅v}]"
      ]
     },
     "execution_count": 17,
     "metadata": {},
     "output_type": "execute_result"
    }
   ],
   "source": [
    "# $v_E=\\frac{3}{5}\\times c$; solve for $v_E$\n",
    "\n",
    "# Define the symbols\n",
    "v = Symbol('v')\n",
    "c = Symbol('c')\n",
    "\n",
    "# Define the equation\n",
    "eq = Eq(v, .6*c)\n",
    "\n",
    "# NEW! Variable substitution below\n",
    "# Substitute the value of c\n",
    "eq.subs(c, 3)\n",
    "\n",
    "# Solve the equation for v\n",
    "solve(eq, dict=True)"
   ]
  },
  {
   "cell_type": "code",
   "execution_count": 7,
   "metadata": {},
   "outputs": [
    {
     "ename": "NameError",
     "evalue": "name 'sympy' is not defined",
     "output_type": "error",
     "traceback": [
      "\u001b[1;31m---------------------------------------------------------------------------\u001b[0m",
      "\u001b[1;31mNameError\u001b[0m                                 Traceback (most recent call last)",
      "Cell \u001b[1;32mIn [7], line 7\u001b[0m\n\u001b[0;32m      4\u001b[0m x \u001b[38;5;241m=\u001b[39m Symbol(\u001b[38;5;124m'\u001b[39m\u001b[38;5;124mx\u001b[39m\u001b[38;5;124m'\u001b[39m)\n\u001b[0;32m      6\u001b[0m \u001b[38;5;66;03m# Define the equation\u001b[39;00m\n\u001b[1;32m----> 7\u001b[0m eq \u001b[38;5;241m=\u001b[39m Eq(x\u001b[38;5;241m*\u001b[39m\u001b[38;5;241m*\u001b[39m((\u001b[43msympy\u001b[49m\u001b[38;5;241m.\u001b[39mRational(\u001b[38;5;241m2\u001b[39m,\u001b[38;5;241m3\u001b[39m))\u001b[38;5;241m/\u001b[39msympy\u001b[38;5;241m.\u001b[39mpi) \u001b[38;5;241m+\u001b[39m \u001b[38;5;241m1\u001b[39m\u001b[38;5;241m/\u001b[39m\u001b[38;5;241m2\u001b[39m, y)\n\u001b[0;32m      9\u001b[0m \u001b[38;5;66;03m# Solve the equation\u001b[39;00m\n\u001b[0;32m     10\u001b[0m solve(eq, x, \u001b[38;5;28mdict\u001b[39m\u001b[38;5;241m=\u001b[39m\u001b[38;5;28;01mTrue\u001b[39;00m)\n",
      "\u001b[1;31mNameError\u001b[0m: name 'sympy' is not defined"
     ]
    }
   ],
   "source": [
    "# $$x^(\\frac{1}{2}) + \\frac{1}{2} = 1$$\n",
    "\n",
    "# Define the symbols\n",
    "x = Symbol('x')\n",
    "\n",
    "# Define the equation\n",
    "eq = Eq(x**((sympy.Rational(2,3))/sympy.pi) + 1/2, y)\n",
    "\n",
    "# Solve the equation\n",
    "solve(eq, x, dict=True)"
   ]
  },
  {
   "cell_type": "code",
   "execution_count": null,
   "metadata": {},
   "outputs": [],
   "source": []
  },
  {
   "cell_type": "markdown",
   "metadata": {},
   "source": [
    "\"But that's just Algebra!\" you say. \"I could do that by hand!\"\\\n",
    "Well, have fun doing that for the following system of equations:\n",
    "$$\\begin{cases}\n",
    "x^2 + 2x + 4 = 3x + 1\\\\\n",
    "2x + 3y = 6\\\\\n",
    "3x + 2y = 12\\\\\n",
    "x^4 + 2y^2 = 3x^2 + 1\n",
    "\\end{cases}$$"
   ]
  },
  {
   "cell_type": "code",
   "execution_count": null,
   "metadata": {},
   "outputs": [
    {
     "data": {
      "image/png": "[encoded data removed]",
      "text/latex": [
       "$\\displaystyle \\left[ \\left( \\frac{25 \\sqrt{30}}{53792}, \\  \\frac{1681 \\sqrt{30}}{300}, \\  \\frac{24}{5}, \\  - \\frac{6}{5}\\right)\\right]$"
      ],
      "text/plain": [
       "⎡⎛25⋅√30  1681⋅√30            ⎞⎤\n",
       "⎢⎜──────, ────────, 24/5, -6/5⎟⎥\n",
       "⎣⎝53792     300               ⎠⎦"
      ]
     },
     "execution_count": 11,
     "metadata": {},
     "output_type": "execute_result"
    }
   ],
   "source": [
    "# Define the variables we want to use\n",
    "a, b, x, y = symbols('a b x y')\n",
    "\n",
    "# Define the equations we want to solve (note: the below list has the parts of the equations rearranged such that they equal zero)\n",
    "eq1 = b*a*x**2 + 2*x + 4 - 3*x - 1\n",
    "eq2 = 2*x + 3*y - 6\n",
    "eq3 = 3*x + 2*y - 12\n",
    "# Compare what happens when you replace Rational(1,2) with 1/2 in the below equation\n",
    "eq4 = b*x**(Rational(1,2)) + 2*y**2 - 3*x**2 - 1\n",
    "\n",
    "# Solve the system of equations\n",
    "solve([eq1, eq2, eq3, eq4], [a, b, x, y])"
   ]
  }
 ],
 "metadata": {
  "kernelspec": {
   "display_name": "Python 3.10.6 64-bit",
   "language": "python",
   "name": "python3"
  },
  "language_info": {
   "codemirror_mode": {
    "name": "ipython",
    "version": 3
   },
   "file_extension": ".py",
   "mimetype": "text/x-python",
   "name": "python",
   "nbconvert_exporter": "python",
   "pygments_lexer": "ipython3",
   "version": "3.10.6"
  },
  "orig_nbformat": 4,
  "vscode": {
   "interpreter": {
    "hash": "26de051ba29f2982a8de78e945f0abaf191376122a1563185a90213a26c5da77"
   }
  }
 },
 "nbformat": 4,
 "nbformat_minor": 2
}
