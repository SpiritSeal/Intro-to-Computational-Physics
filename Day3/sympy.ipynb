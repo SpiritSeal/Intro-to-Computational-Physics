{
 "cells": [
  {
   "cell_type": "code",
   "execution_count": 12,
   "metadata": {},
   "outputs": [],
   "source": [
    "# Imports:\n",
    "# import sympy\n",
    "# from sympy.solvers import solve\n",
    "# from sympy.core.symbol import Symbol, symbols\n",
    "# from sympy.core.relational import Eq\n",
    "from sympy import *"
   ]
  },
  {
   "cell_type": "code",
   "execution_count": 2,
   "metadata": {},
   "outputs": [],
   "source": [
    "# Pretty equation printing support\n",
    "from sympy import init_printing\n",
    "init_printing()"
   ]
  },
  {
   "cell_type": "markdown",
   "metadata": {},
   "source": [
    "# Introduction to Sympy\n",
    "\n",
    "Sympy is a Python Library build for working with Symbolic Mathematics. It is a very powerful tool that works much like CAS solves on many modern Graphing Calculators. Let's start with a couple of examples."
   ]
  },
  {
   "cell_type": "markdown",
   "metadata": {},
   "source": [
    "Solve $x^2 + 2x + 4 = 3x + 1$ for $x$"
   ]
  },
  {
   "cell_type": "code",
   "execution_count": 3,
   "metadata": {},
   "outputs": [
    {
     "data": {
      "image/png": "[encoded data removed]",
      "text/latex": [
       "$\\displaystyle \\left[ \\left\\{ x : \\frac{1}{2} - \\frac{\\sqrt{11} i}{2}\\right\\}, \\  \\left\\{ x : \\frac{1}{2} + \\frac{\\sqrt{11} i}{2}\\right\\}\\right]$"
      ],
      "text/plain": [
       "⎡⎧   1   √11⋅ⅈ⎫  ⎧   1   √11⋅ⅈ⎫⎤\n",
       "⎢⎨x: ─ - ─────⎬, ⎨x: ─ + ─────⎬⎥\n",
       "⎣⎩   2     2  ⎭  ⎩   2     2  ⎭⎦"
      ]
     },
     "execution_count": 3,
     "metadata": {},
     "output_type": "execute_result"
    }
   ],
   "source": [
    "# Solve x^2 + 2x + 4 = 3x + 1 for x\n",
    "\n",
    "# Define the symbols\n",
    "x = Symbol('x')\n",
    "\n",
    "# Define the equation\n",
    "eq = Eq(x**2 + 2*x + 4, 3*x + 1)\n",
    "\n",
    "# Solve the equation\n",
    "solve(eq, dict=True)"
   ]
  },
  {
   "cell_type": "markdown",
   "metadata": {},
   "source": [
    "Let's try a multivariable linear system:\\\n",
    "Solve the following system of equations for $x$ and $y$:\n",
    "$$\\begin{cases}\n",
    "2x + 3y = 6\\\\\n",
    "3x + 2y = 12\n",
    "\\end{cases}$$"
   ]
  },
  {
   "cell_type": "code",
   "execution_count": 4,
   "metadata": {},
   "outputs": [
    {
     "data": {
      "image/png": "[encoded data removed]",
      "text/latex": [
       "$\\displaystyle \\left[ \\left\\{ x : \\frac{24}{5}, \\  y : - \\frac{6}{5}\\right\\}\\right]$"
      ],
      "text/plain": [
       "[{x: 24/5, y: -6/5}]"
      ]
     },
     "execution_count": 4,
     "metadata": {},
     "output_type": "execute_result"
    }
   ],
   "source": [
    "# Define the symbols\n",
    "x = Symbol('x')\n",
    "y = Symbol('y')\n",
    "\n",
    "# Define the equations\n",
    "eq1 = Eq(2*x + 3*y, 6)\n",
    "eq2 = Eq(3*x + 2*y, 12)\n",
    "\n",
    "# Solve the equations\n",
    "solve((eq1, eq2), dict=True)"
   ]
  },
  {
   "cell_type": "markdown",
   "metadata": {},
   "source": [
    "Another important thing to keep in mind is to make sure you sure the `Rational` function whenever you are trying to express something as a fraction. For example, if you want to express $1/2$ as a fraction, you would write `Rational(1,2)`. If you do not do this, Python will convert the fraction to a floating point decimal, which loses precision. This may not sound like a big deal, but consider the following example:\n",
    "\n",
    "$$x^(\\frac{1}{2}) + \\frac{1}{2} = 1$$\n",
    "\n",
    "\n"
   ]
  },
  {
   "cell_type": "code",
   "execution_count": 6,
   "metadata": {},
   "outputs": [
    {
     "data": {
      "image/png": "[encoded data removed]",
      "text/latex": [
       "$\\displaystyle \\left[ \\left\\{ x : \\left(1.0 \\left(y - 0.5\\right)^{1.5}\\right)^{\\pi}\\right\\}, \\  \\left\\{ x : \\left(- 1.0 \\left(y - 0.5\\right)^{1.5}\\right)^{\\pi}\\right\\}\\right]$"
      ],
      "text/plain": [
       "⎡⎧                     π⎫  ⎧                      π⎫⎤\n",
       "⎢⎨   ⎛             1.5⎞ ⎬  ⎨   ⎛              1.5⎞ ⎬⎥\n",
       "⎣⎩x: ⎝1.0⋅(y - 0.5)   ⎠ ⎭, ⎩x: ⎝-1.0⋅(y - 0.5)   ⎠ ⎭⎦"
      ]
     },
     "execution_count": 6,
     "metadata": {},
     "output_type": "execute_result"
    }
   ],
   "source": [
    "# $$x^(\\frac{1}{2}) + \\frac{1}{2} = 1$$\n",
    "\n",
    "# Define the symbols\n",
    "x = Symbol('x')\n",
    "\n",
    "# Define the equation\n",
    "eq = Eq(x**((sympy.Rational(2,3))/sympy.pi) + 1/2, y)\n",
    "\n",
    "# Solve the equation\n",
    "solve(eq, x, dict=True)"
   ]
  },
  {
   "cell_type": "code",
   "execution_count": null,
   "metadata": {},
   "outputs": [],
   "source": []
  },
  {
   "cell_type": "markdown",
   "metadata": {},
   "source": [
    "\"But that's just Algebra!\" you say. \"I could do that by hand!\"\\\n",
    "Well, have fun doing that for the following system of equations:\n",
    "$$\\begin{cases}\n",
    "x^2 + 2x + 4 = 3x + 1\\\\\n",
    "2x + 3y = 6\\\\\n",
    "3x + 2y = 12\\\\\n",
    "x^4 + 2y^2 = 3x^2 + 1\n",
    "\\end{cases}$$"
   ]
  },
  {
   "cell_type": "code",
   "execution_count": 11,
   "metadata": {},
   "outputs": [
    {
     "data": {
      "image/png": "[encoded data removed]",
      "text/latex": [
       "$\\displaystyle \\left[ \\left( \\frac{25 \\sqrt{30}}{53792}, \\  \\frac{1681 \\sqrt{30}}{300}, \\  \\frac{24}{5}, \\  - \\frac{6}{5}\\right)\\right]$"
      ],
      "text/plain": [
       "⎡⎛25⋅√30  1681⋅√30            ⎞⎤\n",
       "⎢⎜──────, ────────, 24/5, -6/5⎟⎥\n",
       "⎣⎝53792     300               ⎠⎦"
      ]
     },
     "execution_count": 11,
     "metadata": {},
     "output_type": "execute_result"
    }
   ],
   "source": [
    "# Define the variables we want to use\n",
    "a, b, x, y = symbols('a b x y')\n",
    "\n",
    "# Define the equations we want to solve (note: the below list has the parts of the equations rearranged such that they equal zero)\n",
    "eq1 = b*a*x**2 + 2*x + 4 - 3*x - 1\n",
    "eq2 = 2*x + 3*y - 6\n",
    "eq3 = 3*x + 2*y - 12\n",
    "# Compare what happens when you replace Rational(1,2) with 1/2 in the below equation\n",
    "eq4 = b*x**(Rational(1,2)) + 2*y**2 - 3*x**2 - 1\n",
    "\n",
    "# Solve the system of equations\n",
    "solve([eq1, eq2, eq3, eq4], [a, b, x, y])"
   ]
  }
 ],
 "metadata": {
  "kernelspec": {
   "display_name": "Python 3.10.6 64-bit",
   "language": "python",
   "name": "python3"
  },
  "language_info": {
   "codemirror_mode": {
    "name": "ipython",
    "version": 3
   },
   "file_extension": ".py",
   "mimetype": "text/x-python",
   "name": "python",
   "nbconvert_exporter": "python",
   "pygments_lexer": "ipython3",
   "version": "3.10.6"
  },
  "orig_nbformat": 4,
  "vscode": {
   "interpreter": {
    "hash": "26de051ba29f2982a8de78e945f0abaf191376122a1563185a90213a26c5da77"
   }
  }
 },
 "nbformat": 4,
 "nbformat_minor": 2
}
